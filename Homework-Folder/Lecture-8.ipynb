{
 "cells": [
  {
   "cell_type": "markdown",
   "id": "b8ba97b6-7ce6-4a36-99fa-88cc3eab0e30",
   "metadata": {},
   "source": [
    "$\\textbf{PROGRAMMING ASSIGNMENT}$\n",
    "---\n",
    "# Instructions\n",
    "\n",
    "1. Choose a dataset from https://archive.ics.uci.edu/datasets.\n",
    "2. Your dataset should be unique to that of your classmate, so be sure to discuss with them, otherwise no points will be given into this assignment."
   ]
  },
  {
   "cell_type": "code",
   "execution_count": null,
   "id": "c35fec1c-cd0b-40b6-8ea0-f90229c51e48",
   "metadata": {},
   "outputs": [],
   "source": [
    "\n"
   ]
  },
  {
   "cell_type": "code",
   "execution_count": null,
   "id": "1dc7859f-9feb-4ede-a94c-171eaaeb3f88",
   "metadata": {},
   "outputs": [],
   "source": []
  },
  {
   "cell_type": "code",
   "execution_count": null,
   "id": "87fb2626-c57e-4a9c-a4c0-88bec3da92f8",
   "metadata": {},
   "outputs": [],
   "source": []
  },
  {
   "cell_type": "code",
   "execution_count": null,
   "id": "d55215d2-18d6-4b8e-bb41-058cce39045a",
   "metadata": {},
   "outputs": [],
   "source": []
  },
  {
   "cell_type": "code",
   "execution_count": null,
   "id": "594ffb0b-39dd-48d0-b69c-c7dc19f70a99",
   "metadata": {},
   "outputs": [],
   "source": []
  }
 ],
 "metadata": {
  "kernelspec": {
   "display_name": "Python 3 (ipykernel)",
   "language": "python",
   "name": "python3"
  },
  "language_info": {
   "codemirror_mode": {
    "name": "ipython",
    "version": 3
   },
   "file_extension": ".py",
   "mimetype": "text/x-python",
   "name": "python",
   "nbconvert_exporter": "python",
   "pygments_lexer": "ipython3",
   "version": "3.11.5"
  }
 },
 "nbformat": 4,
 "nbformat_minor": 5
}
